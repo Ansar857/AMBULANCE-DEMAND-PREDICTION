{
 "cells": [
  {
   "cell_type": "code",
   "execution_count": 14,
   "id": "e281b2cb",
   "metadata": {},
   "outputs": [],
   "source": [
    "import pandas as pd"
   ]
  },
  {
   "cell_type": "code",
   "execution_count": 15,
   "id": "ee0008e4",
   "metadata": {},
   "outputs": [],
   "source": [
    "data = pd.read_csv('Fire_Incident_Dispatch_Data.csv')"
   ]
  },
  {
   "cell_type": "code",
   "execution_count": 16,
   "id": "825d3fc9",
   "metadata": {},
   "outputs": [
    {
     "data": {
      "text/html": [
       "<div>\n",
       "<style scoped>\n",
       "    .dataframe tbody tr th:only-of-type {\n",
       "        vertical-align: middle;\n",
       "    }\n",
       "\n",
       "    .dataframe tbody tr th {\n",
       "        vertical-align: top;\n",
       "    }\n",
       "\n",
       "    .dataframe thead th {\n",
       "        text-align: right;\n",
       "    }\n",
       "</style>\n",
       "<table border=\"1\" class=\"dataframe\">\n",
       "  <thead>\n",
       "    <tr style=\"text-align: right;\">\n",
       "      <th></th>\n",
       "      <th>INCIDENT_DATETIME</th>\n",
       "      <th>ALARM_BOX_BOROUGH</th>\n",
       "      <th>ALARM_BOX_LOCATION</th>\n",
       "      <th>INCIDENT_BOROUGH</th>\n",
       "      <th>ZIPCODE</th>\n",
       "    </tr>\n",
       "  </thead>\n",
       "  <tbody>\n",
       "    <tr>\n",
       "      <th>0</th>\n",
       "      <td>1/1/2005 0:00</td>\n",
       "      <td>RICHMOND / STATEN ISLAND</td>\n",
       "      <td>MERRYMOUNT ST &amp; NOME AVE</td>\n",
       "      <td>RICHMOND / STATEN ISLAND</td>\n",
       "      <td>10314.0</td>\n",
       "    </tr>\n",
       "    <tr>\n",
       "      <th>1</th>\n",
       "      <td>1/1/2005 0:00</td>\n",
       "      <td>BRONX</td>\n",
       "      <td>ARTHUR AVE &amp; 183 ST</td>\n",
       "      <td>BRONX</td>\n",
       "      <td>10458.0</td>\n",
       "    </tr>\n",
       "    <tr>\n",
       "      <th>2</th>\n",
       "      <td>1/1/2005 0:01</td>\n",
       "      <td>BROOKLYN</td>\n",
       "      <td>TOMPKINS &amp; PARK AVES</td>\n",
       "      <td>BROOKLYN</td>\n",
       "      <td>11206.0</td>\n",
       "    </tr>\n",
       "    <tr>\n",
       "      <th>3</th>\n",
       "      <td>1/1/2005 0:01</td>\n",
       "      <td>QUEENS</td>\n",
       "      <td>ASTORIA BLVD AND 2ND ST</td>\n",
       "      <td>QUEENS</td>\n",
       "      <td>11102.0</td>\n",
       "    </tr>\n",
       "    <tr>\n",
       "      <th>4</th>\n",
       "      <td>1/1/2005 0:01</td>\n",
       "      <td>QUEENS</td>\n",
       "      <td>JACKSON &amp; 42 RD</td>\n",
       "      <td>QUEENS</td>\n",
       "      <td>11101.0</td>\n",
       "    </tr>\n",
       "  </tbody>\n",
       "</table>\n",
       "</div>"
      ],
      "text/plain": [
       "  INCIDENT_DATETIME         ALARM_BOX_BOROUGH        ALARM_BOX_LOCATION  \\\n",
       "0     1/1/2005 0:00  RICHMOND / STATEN ISLAND  MERRYMOUNT ST & NOME AVE   \n",
       "1     1/1/2005 0:00                     BRONX       ARTHUR AVE & 183 ST   \n",
       "2     1/1/2005 0:01                  BROOKLYN      TOMPKINS & PARK AVES   \n",
       "3     1/1/2005 0:01                    QUEENS   ASTORIA BLVD AND 2ND ST   \n",
       "4     1/1/2005 0:01                    QUEENS           JACKSON & 42 RD   \n",
       "\n",
       "           INCIDENT_BOROUGH  ZIPCODE  \n",
       "0  RICHMOND / STATEN ISLAND  10314.0  \n",
       "1                     BRONX  10458.0  \n",
       "2                  BROOKLYN  11206.0  \n",
       "3                    QUEENS  11102.0  \n",
       "4                    QUEENS  11101.0  "
      ]
     },
     "execution_count": 16,
     "metadata": {},
     "output_type": "execute_result"
    }
   ],
   "source": [
    "data.head()"
   ]
  },
  {
   "cell_type": "code",
   "execution_count": 17,
   "id": "271dd309",
   "metadata": {},
   "outputs": [
    {
     "data": {
      "text/plain": [
       "<bound method DataFrame.info of         INCIDENT_DATETIME         ALARM_BOX_BOROUGH  \\\n",
       "0           1/1/2005 0:00  RICHMOND / STATEN ISLAND   \n",
       "1           1/1/2005 0:00                     BRONX   \n",
       "2           1/1/2005 0:01                  BROOKLYN   \n",
       "3           1/1/2005 0:01                    QUEENS   \n",
       "4           1/1/2005 0:01                    QUEENS   \n",
       "...                   ...                       ...   \n",
       "1048570   2/22/2007 18:33                 MANHATTAN   \n",
       "1048571   2/22/2007 18:34                  BROOKLYN   \n",
       "1048572   2/22/2007 18:35                  BROOKLYN   \n",
       "1048573   2/22/2007 18:35                     BRONX   \n",
       "1048574   2/22/2007 18:37                 MANHATTAN   \n",
       "\n",
       "                        ALARM_BOX_LOCATION          INCIDENT_BOROUGH  ZIPCODE  \n",
       "0                 MERRYMOUNT ST & NOME AVE  RICHMOND / STATEN ISLAND  10314.0  \n",
       "1                      ARTHUR AVE & 183 ST                     BRONX  10458.0  \n",
       "2                     TOMPKINS & PARK AVES                  BROOKLYN  11206.0  \n",
       "3                  ASTORIA BLVD AND 2ND ST                    QUEENS  11102.0  \n",
       "4                          JACKSON & 42 RD                    QUEENS  11101.0  \n",
       "...                                    ...                       ...      ...  \n",
       "1048570        PARK AVE 200' S OF E 135 ST                 MANHATTAN  10037.0  \n",
       "1048571                      5 AVE & 59 ST                  BROOKLYN  11220.0  \n",
       "1048572       AVE N & PERI LANE AT E 71 ST                  BROOKLYN  11234.0  \n",
       "1048573  FT OF ERDMAN PL S/SECT CO-OP CITY                     BRONX  10475.0  \n",
       "1048574            AVE OF AMERICAS & 44 ST                 MANHATTAN  10036.0  \n",
       "\n",
       "[1048575 rows x 5 columns]>"
      ]
     },
     "execution_count": 17,
     "metadata": {},
     "output_type": "execute_result"
    }
   ],
   "source": [
    "data.info"
   ]
  },
  {
   "cell_type": "code",
   "execution_count": 29,
   "id": "88bc915c",
   "metadata": {},
   "outputs": [],
   "source": [
    "data =data.dropna()"
   ]
  },
  {
   "cell_type": "code",
   "execution_count": 30,
   "id": "8c605196",
   "metadata": {},
   "outputs": [
    {
     "data": {
      "text/plain": [
       "INCIDENT_DATETIME     0\n",
       "ALARM_BOX_BOROUGH     0\n",
       "ALARM_BOX_LOCATION    0\n",
       "INCIDENT_BOROUGH      0\n",
       "ZIPCODE               0\n",
       "dtype: int64"
      ]
     },
     "execution_count": 30,
     "metadata": {},
     "output_type": "execute_result"
    }
   ],
   "source": [
    "data.isnull().sum()"
   ]
  },
  {
   "cell_type": "code",
   "execution_count": 31,
   "id": "184a35c3",
   "metadata": {},
   "outputs": [
    {
     "data": {
      "text/html": [
       "<div>\n",
       "<style scoped>\n",
       "    .dataframe tbody tr th:only-of-type {\n",
       "        vertical-align: middle;\n",
       "    }\n",
       "\n",
       "    .dataframe tbody tr th {\n",
       "        vertical-align: top;\n",
       "    }\n",
       "\n",
       "    .dataframe thead th {\n",
       "        text-align: right;\n",
       "    }\n",
       "</style>\n",
       "<table border=\"1\" class=\"dataframe\">\n",
       "  <thead>\n",
       "    <tr style=\"text-align: right;\">\n",
       "      <th></th>\n",
       "      <th>INCIDENT_DATETIME</th>\n",
       "      <th>ALARM_BOX_BOROUGH</th>\n",
       "      <th>ALARM_BOX_LOCATION</th>\n",
       "      <th>INCIDENT_BOROUGH</th>\n",
       "      <th>ZIPCODE</th>\n",
       "    </tr>\n",
       "  </thead>\n",
       "  <tbody>\n",
       "    <tr>\n",
       "      <th>0</th>\n",
       "      <td>1/1/2005 0:00</td>\n",
       "      <td>RICHMOND / STATEN ISLAND</td>\n",
       "      <td>MERRYMOUNT ST &amp; NOME AVE</td>\n",
       "      <td>RICHMOND / STATEN ISLAND</td>\n",
       "      <td>10314.0</td>\n",
       "    </tr>\n",
       "    <tr>\n",
       "      <th>1</th>\n",
       "      <td>1/1/2005 0:00</td>\n",
       "      <td>BRONX</td>\n",
       "      <td>ARTHUR AVE &amp; 183 ST</td>\n",
       "      <td>BRONX</td>\n",
       "      <td>10458.0</td>\n",
       "    </tr>\n",
       "    <tr>\n",
       "      <th>2</th>\n",
       "      <td>1/1/2005 0:01</td>\n",
       "      <td>BROOKLYN</td>\n",
       "      <td>TOMPKINS &amp; PARK AVES</td>\n",
       "      <td>BROOKLYN</td>\n",
       "      <td>11206.0</td>\n",
       "    </tr>\n",
       "    <tr>\n",
       "      <th>3</th>\n",
       "      <td>1/1/2005 0:01</td>\n",
       "      <td>QUEENS</td>\n",
       "      <td>ASTORIA BLVD AND 2ND ST</td>\n",
       "      <td>QUEENS</td>\n",
       "      <td>11102.0</td>\n",
       "    </tr>\n",
       "    <tr>\n",
       "      <th>4</th>\n",
       "      <td>1/1/2005 0:01</td>\n",
       "      <td>QUEENS</td>\n",
       "      <td>JACKSON &amp; 42 RD</td>\n",
       "      <td>QUEENS</td>\n",
       "      <td>11101.0</td>\n",
       "    </tr>\n",
       "  </tbody>\n",
       "</table>\n",
       "</div>"
      ],
      "text/plain": [
       "  INCIDENT_DATETIME         ALARM_BOX_BOROUGH        ALARM_BOX_LOCATION  \\\n",
       "0     1/1/2005 0:00  RICHMOND / STATEN ISLAND  MERRYMOUNT ST & NOME AVE   \n",
       "1     1/1/2005 0:00                     BRONX       ARTHUR AVE & 183 ST   \n",
       "2     1/1/2005 0:01                  BROOKLYN      TOMPKINS & PARK AVES   \n",
       "3     1/1/2005 0:01                    QUEENS   ASTORIA BLVD AND 2ND ST   \n",
       "4     1/1/2005 0:01                    QUEENS           JACKSON & 42 RD   \n",
       "\n",
       "           INCIDENT_BOROUGH  ZIPCODE  \n",
       "0  RICHMOND / STATEN ISLAND  10314.0  \n",
       "1                     BRONX  10458.0  \n",
       "2                  BROOKLYN  11206.0  \n",
       "3                    QUEENS  11102.0  \n",
       "4                    QUEENS  11101.0  "
      ]
     },
     "execution_count": 31,
     "metadata": {},
     "output_type": "execute_result"
    }
   ],
   "source": [
    "data.head()"
   ]
  },
  {
   "cell_type": "code",
   "execution_count": 32,
   "id": "fd9e9266",
   "metadata": {},
   "outputs": [
    {
     "data": {
      "text/plain": [
       "INCIDENT_DATETIME     979352\n",
       "ALARM_BOX_BOROUGH     979352\n",
       "ALARM_BOX_LOCATION    979352\n",
       "INCIDENT_BOROUGH      979352\n",
       "ZIPCODE               979352\n",
       "dtype: int64"
      ]
     },
     "execution_count": 32,
     "metadata": {},
     "output_type": "execute_result"
    }
   ],
   "source": [
    "data.count()"
   ]
  },
  {
   "cell_type": "code",
   "execution_count": 56,
   "id": "f07853fa",
   "metadata": {
    "scrolled": true
   },
   "outputs": [],
   "source": [
    "arr = data['INCIDENT_BOROUGH'].unique()"
   ]
  },
  {
   "cell_type": "code",
   "execution_count": 57,
   "id": "1fd61bf4",
   "metadata": {},
   "outputs": [
    {
     "data": {
      "text/plain": [
       "array(['RICHMOND / STATEN ISLAND', 'BRONX', 'BROOKLYN', 'QUEENS',\n",
       "       'MANHATTAN'], dtype=object)"
      ]
     },
     "execution_count": 57,
     "metadata": {},
     "output_type": "execute_result"
    }
   ],
   "source": [
    "arr"
   ]
  },
  {
   "cell_type": "code",
   "execution_count": 53,
   "id": "e4648ee9",
   "metadata": {},
   "outputs": [
    {
     "data": {
      "text/plain": [
       "231"
      ]
     },
     "execution_count": 53,
     "metadata": {},
     "output_type": "execute_result"
    }
   ],
   "source": [
    "len(arr)"
   ]
  },
  {
   "cell_type": "code",
   "execution_count": 59,
   "id": "9fa0afd0",
   "metadata": {},
   "outputs": [],
   "source": [
    "#data.to_csv('Data.csv')"
   ]
  },
  {
   "cell_type": "code",
   "execution_count": 73,
   "id": "4d896e34",
   "metadata": {},
   "outputs": [],
   "source": [
    "data = pd.read_csv('Data.csv')"
   ]
  },
  {
   "cell_type": "code",
   "execution_count": 74,
   "id": "f8e3a032",
   "metadata": {},
   "outputs": [
    {
     "data": {
      "text/html": [
       "<div>\n",
       "<style scoped>\n",
       "    .dataframe tbody tr th:only-of-type {\n",
       "        vertical-align: middle;\n",
       "    }\n",
       "\n",
       "    .dataframe tbody tr th {\n",
       "        vertical-align: top;\n",
       "    }\n",
       "\n",
       "    .dataframe thead th {\n",
       "        text-align: right;\n",
       "    }\n",
       "</style>\n",
       "<table border=\"1\" class=\"dataframe\">\n",
       "  <thead>\n",
       "    <tr style=\"text-align: right;\">\n",
       "      <th></th>\n",
       "      <th>INCIDENT_DATETIME</th>\n",
       "      <th>INCIDENT_BOROUGH</th>\n",
       "      <th>ZIPCODE</th>\n",
       "    </tr>\n",
       "  </thead>\n",
       "  <tbody>\n",
       "    <tr>\n",
       "      <th>0</th>\n",
       "      <td>1/1/2005 0:00</td>\n",
       "      <td>RICHMOND / STATEN ISLAND</td>\n",
       "      <td>10314</td>\n",
       "    </tr>\n",
       "    <tr>\n",
       "      <th>1</th>\n",
       "      <td>1/1/2005 0:00</td>\n",
       "      <td>BRONX</td>\n",
       "      <td>10458</td>\n",
       "    </tr>\n",
       "    <tr>\n",
       "      <th>2</th>\n",
       "      <td>1/1/2005 0:01</td>\n",
       "      <td>BROOKLYN</td>\n",
       "      <td>11206</td>\n",
       "    </tr>\n",
       "    <tr>\n",
       "      <th>3</th>\n",
       "      <td>1/1/2005 0:01</td>\n",
       "      <td>QUEENS</td>\n",
       "      <td>11102</td>\n",
       "    </tr>\n",
       "    <tr>\n",
       "      <th>4</th>\n",
       "      <td>1/1/2005 0:01</td>\n",
       "      <td>QUEENS</td>\n",
       "      <td>11101</td>\n",
       "    </tr>\n",
       "  </tbody>\n",
       "</table>\n",
       "</div>"
      ],
      "text/plain": [
       "  INCIDENT_DATETIME          INCIDENT_BOROUGH  ZIPCODE\n",
       "0     1/1/2005 0:00  RICHMOND / STATEN ISLAND    10314\n",
       "1     1/1/2005 0:00                     BRONX    10458\n",
       "2     1/1/2005 0:01                  BROOKLYN    11206\n",
       "3     1/1/2005 0:01                    QUEENS    11102\n",
       "4     1/1/2005 0:01                    QUEENS    11101"
      ]
     },
     "execution_count": 74,
     "metadata": {},
     "output_type": "execute_result"
    }
   ],
   "source": [
    "data.head()"
   ]
  },
  {
   "cell_type": "code",
   "execution_count": 75,
   "id": "ce9a857e",
   "metadata": {},
   "outputs": [
    {
     "data": {
      "text/plain": [
       "array(['RICHMOND / STATEN ISLAND', 'BRONX', 'BROOKLYN', 'QUEENS',\n",
       "       'MANHATTAN'], dtype=object)"
      ]
     },
     "execution_count": 75,
     "metadata": {},
     "output_type": "execute_result"
    }
   ],
   "source": [
    "data['INCIDENT_BOROUGH'].unique()"
   ]
  },
  {
   "cell_type": "code",
   "execution_count": 76,
   "id": "54f3c236",
   "metadata": {},
   "outputs": [
    {
     "data": {
      "text/plain": [
       "INCIDENT_DATETIME    628108\n",
       "INCIDENT_BOROUGH          5\n",
       "ZIPCODE                 231\n",
       "dtype: int64"
      ]
     },
     "execution_count": 76,
     "metadata": {},
     "output_type": "execute_result"
    }
   ],
   "source": [
    "data.nunique()"
   ]
  },
  {
   "cell_type": "code",
   "execution_count": 77,
   "id": "99244ea0",
   "metadata": {},
   "outputs": [
    {
     "data": {
      "text/html": [
       "<div>\n",
       "<style scoped>\n",
       "    .dataframe tbody tr th:only-of-type {\n",
       "        vertical-align: middle;\n",
       "    }\n",
       "\n",
       "    .dataframe tbody tr th {\n",
       "        vertical-align: top;\n",
       "    }\n",
       "\n",
       "    .dataframe thead th {\n",
       "        text-align: right;\n",
       "    }\n",
       "</style>\n",
       "<table border=\"1\" class=\"dataframe\">\n",
       "  <thead>\n",
       "    <tr style=\"text-align: right;\">\n",
       "      <th></th>\n",
       "      <th>INCIDENT_DATETIME</th>\n",
       "      <th>INCIDENT_BOROUGH</th>\n",
       "      <th>ZIPCODE</th>\n",
       "    </tr>\n",
       "  </thead>\n",
       "  <tbody>\n",
       "    <tr>\n",
       "      <th>0</th>\n",
       "      <td>1/1/2005 0:00</td>\n",
       "      <td>RICHMOND / STATEN ISLAND</td>\n",
       "      <td>10314</td>\n",
       "    </tr>\n",
       "    <tr>\n",
       "      <th>1</th>\n",
       "      <td>1/1/2005 0:00</td>\n",
       "      <td>BRONX</td>\n",
       "      <td>10458</td>\n",
       "    </tr>\n",
       "    <tr>\n",
       "      <th>2</th>\n",
       "      <td>1/1/2005 0:01</td>\n",
       "      <td>BROOKLYN</td>\n",
       "      <td>11206</td>\n",
       "    </tr>\n",
       "    <tr>\n",
       "      <th>3</th>\n",
       "      <td>1/1/2005 0:01</td>\n",
       "      <td>QUEENS</td>\n",
       "      <td>11102</td>\n",
       "    </tr>\n",
       "    <tr>\n",
       "      <th>4</th>\n",
       "      <td>1/1/2005 0:01</td>\n",
       "      <td>QUEENS</td>\n",
       "      <td>11101</td>\n",
       "    </tr>\n",
       "    <tr>\n",
       "      <th>...</th>\n",
       "      <td>...</td>\n",
       "      <td>...</td>\n",
       "      <td>...</td>\n",
       "    </tr>\n",
       "    <tr>\n",
       "      <th>979347</th>\n",
       "      <td>2/22/2007 18:33</td>\n",
       "      <td>MANHATTAN</td>\n",
       "      <td>10037</td>\n",
       "    </tr>\n",
       "    <tr>\n",
       "      <th>979348</th>\n",
       "      <td>2/22/2007 18:34</td>\n",
       "      <td>BROOKLYN</td>\n",
       "      <td>11220</td>\n",
       "    </tr>\n",
       "    <tr>\n",
       "      <th>979349</th>\n",
       "      <td>2/22/2007 18:35</td>\n",
       "      <td>BROOKLYN</td>\n",
       "      <td>11234</td>\n",
       "    </tr>\n",
       "    <tr>\n",
       "      <th>979350</th>\n",
       "      <td>2/22/2007 18:35</td>\n",
       "      <td>BRONX</td>\n",
       "      <td>10475</td>\n",
       "    </tr>\n",
       "    <tr>\n",
       "      <th>979351</th>\n",
       "      <td>2/22/2007 18:37</td>\n",
       "      <td>MANHATTAN</td>\n",
       "      <td>10036</td>\n",
       "    </tr>\n",
       "  </tbody>\n",
       "</table>\n",
       "<p>979352 rows × 3 columns</p>\n",
       "</div>"
      ],
      "text/plain": [
       "       INCIDENT_DATETIME          INCIDENT_BOROUGH  ZIPCODE\n",
       "0          1/1/2005 0:00  RICHMOND / STATEN ISLAND    10314\n",
       "1          1/1/2005 0:00                     BRONX    10458\n",
       "2          1/1/2005 0:01                  BROOKLYN    11206\n",
       "3          1/1/2005 0:01                    QUEENS    11102\n",
       "4          1/1/2005 0:01                    QUEENS    11101\n",
       "...                  ...                       ...      ...\n",
       "979347   2/22/2007 18:33                 MANHATTAN    10037\n",
       "979348   2/22/2007 18:34                  BROOKLYN    11220\n",
       "979349   2/22/2007 18:35                  BROOKLYN    11234\n",
       "979350   2/22/2007 18:35                     BRONX    10475\n",
       "979351   2/22/2007 18:37                 MANHATTAN    10036\n",
       "\n",
       "[979352 rows x 3 columns]"
      ]
     },
     "execution_count": 77,
     "metadata": {},
     "output_type": "execute_result"
    }
   ],
   "source": [
    "data"
   ]
  },
  {
   "cell_type": "code",
   "execution_count": null,
   "id": "3b3866ab",
   "metadata": {},
   "outputs": [],
   "source": []
  }
 ],
 "metadata": {
  "kernelspec": {
   "display_name": "Python 3 (ipykernel)",
   "language": "python",
   "name": "python3"
  },
  "language_info": {
   "codemirror_mode": {
    "name": "ipython",
    "version": 3
   },
   "file_extension": ".py",
   "mimetype": "text/x-python",
   "name": "python",
   "nbconvert_exporter": "python",
   "pygments_lexer": "ipython3",
   "version": "3.10.5"
  }
 },
 "nbformat": 4,
 "nbformat_minor": 5
}
